{
 "cells": [
  {
   "cell_type": "markdown",
   "metadata": {},
   "source": [
    "**ALIGNING COSMIC HUMAN GENES TO ALL DOG GENES TO IDENTIFY MATCHING GENES**"
   ]
  },
  {
   "cell_type": "code",
   "execution_count": null,
   "metadata": {},
   "outputs": [],
   "source": [
    "#reading fasta files from dog and human, global alignment of each dog sequence to each human genes,\n",
    "#saving in a csv file seuqnces, gene name, for the highest pidenity per each gene to find the corrispondance in dog\n",
    "\n",
    "import psa\n",
    "import pandas as pd\n",
    "from Bio import SeqIO\n",
    "\n",
    "def read_fasta(fasta_file):\n",
    "    \"\"\"\n",
    "    Reads a FASTA file and gives back a tuple (header, sequence).\n",
    "    \"\"\"\n",
    "    sequences = []\n",
    "    for record in SeqIO.parse(fasta_file, \"fasta\"):\n",
    "        sequences.append((record.id, str(record.seq)))\n",
    "    return sequences\n",
    "\n",
    "def perform_global_alignment(human_seqs, dog_seqs):\n",
    "    results = []\n",
    "    alignment_counter = 0  # Initialize alignment counter\n",
    "\n",
    "    # Execute global alignemnt for each human sequnce with all dog sequences\n",
    "    for human_id, human_seq in human_seqs:\n",
    "        best_match = {'Human Gene': human_id, 'Dog Gene': None, 'Pidentity': 0, 'Sequence': None}\n",
    "\n",
    "        for dog_id, dog_seq in dog_seqs:\n",
    "            aln = psa.needle(moltype='prot', qseq=human_seq, sseq=dog_seq)\n",
    "\n",
    "            if aln.pidentity > best_match['Pidentity']:\n",
    "                best_match.update({\n",
    "                    'Dog Gene': dog_id,\n",
    "                    'Pidentity': aln.pidentity,\n",
    "                    'Sequence': aln.sseq  # Dog sequence\n",
    "                })\n",
    "        \n",
    "        results.append(best_match)\n",
    "        alignment_counter += 1  \n",
    "        print(f\"Alignements Completed: {alignment_counter}\")\n",
    "\n",
    "    return results\n",
    "\n",
    "def main(human_fasta, dog_fasta, output_csv):\n",
    "    human_seqs = read_fasta(human_fasta)\n",
    "    dog_seqs = read_fasta(dog_fasta)\n",
    "\n",
    "    alignment_results = perform_global_alignment(human_seqs, dog_seqs)\n",
    "\n",
    "    df_results = pd.DataFrame(alignment_results)\n",
    "    print(df_results)\n",
    "    \n",
    "    # Export results as CSV file\n",
    "    df_results.to_csv(output_csv, index=False)\n",
    "    print(f\"Results exported in: {output_csv}\")\n",
    "\n",
    "if __name__ == \"__main__\":\n",
    "    import sys\n",
    "    if len(sys.argv) != 4:\n",
    "        print(\"Usage: python script.py human_cosmic_genes.fasta df_dog_sequences.fasta output.csv\")\n",
    "        sys.exit(1)\n",
    "    \n",
    "    human_fasta = sys.argv[1]\n",
    "    dog_fasta = sys.argv[2]\n",
    "    output_csv = sys.argv[3]\n",
    "    main(human_fasta, dog_fasta, output_csv)\n"
   ]
  }
 ],
 "metadata": {
  "kernelspec": {
   "display_name": "Python 3 (ipykernel)",
   "language": "python",
   "name": "python3"
  },
  "language_info": {
   "codemirror_mode": {
    "name": "ipython",
    "version": 3
   },
   "file_extension": ".py",
   "mimetype": "text/x-python",
   "name": "python",
   "nbconvert_exporter": "python",
   "pygments_lexer": "ipython3",
   "version": "3.8.10"
  }
 },
 "nbformat": 4,
 "nbformat_minor": 4
}
