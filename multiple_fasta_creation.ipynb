{
 "cells": [
  {
   "cell_type": "markdown",
   "metadata": {},
   "source": [
    "**CREATING MULTIPLE FASTA FILES WITH HUMAN COSMIC GENES**"
   ]
  },
  {
   "cell_type": "code",
   "execution_count": null,
   "metadata": {},
   "outputs": [],
   "source": [
    "from Bio import SeqIO\n",
    "\n",
    "fasta_path = 'human_cosmic_genes.fasta'  \n",
    "\n",
    "\n",
    "sequences = list(SeqIO.parse(fasta_path, \"fasta\"))\n",
    "\n",
    "\n",
    "genes_per_file = 145\n",
    "\n",
    "\n",
    "for file_num in range(5):\n",
    "    start_index = file_num * genes_per_file\n",
    "    end_index = start_index + genes_per_file\n",
    "    end_index = min(end_index, len(sequences))  \n",
    "    \n",
    "    output_path = f'human_cosmic_genes_part_{file_num+1}.fasta' \n",
    "    \n",
    "    with open(output_path, 'w') as output_file:\n",
    "        SeqIO.write(sequences[start_index:end_index], output_file, \"fasta\")\n",
    "\n",
    "print(\"5 file FASTA creati con successo.\")\n"
   ]
  }
 ],
 "metadata": {
  "kernelspec": {
   "display_name": "Python 3 (ipykernel)",
   "language": "python",
   "name": "python3"
  },
  "language_info": {
   "codemirror_mode": {
    "name": "ipython",
    "version": 3
   },
   "file_extension": ".py",
   "mimetype": "text/x-python",
   "name": "python",
   "nbconvert_exporter": "python",
   "pygments_lexer": "ipython3",
   "version": "3.8.10"
  }
 },
 "nbformat": 4,
 "nbformat_minor": 4
}
